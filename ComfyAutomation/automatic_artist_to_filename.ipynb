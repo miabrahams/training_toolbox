{
 "cells": [
  {
   "cell_type": "code",
   "execution_count": null,
   "metadata": {},
   "outputs": [],
   "source": [
    "%pip install exifread"
   ]
  },
  {
   "cell_type": "code",
   "execution_count": null,
   "metadata": {},
   "outputs": [],
   "source": [
    "import os\n",
    "import json\n",
    "from lib.metadata import raw_image_info, metadata_from_file\n",
    "import tqdm\n",
    "import exifread\n",
    "import re\n",
    "from exif import Image as exif_image\n",
    "\n"
   ]
  },
  {
   "cell_type": "code",
   "execution_count": 63,
   "metadata": {},
   "outputs": [],
   "source": [
    "# Config\n",
    "BASE_PATH = r\"D:\\AI\\automatic\\outputs\\grids\\rename\"\n",
    "\n",
    "# Search for artist in prompt like   \"digital painting, by <artist>),\" optional final )\n",
    "artist_match_re = re.compile(r\".*by ([^,]+)\\),\")\n"
   ]
  },
  {
   "cell_type": "code",
   "execution_count": null,
   "metadata": {},
   "outputs": [],
   "source": [
    "# Examine metadata & test\n",
    "filenames = os.listdir(BASE_PATH)\n",
    "filepath = os.path.join(BASE_PATH, filenames[0])\n",
    "info = raw_image_info(filepath)\n",
    "\n",
    "artist = artist_match_re.match(info).group(1)\n",
    "\n",
    "print(f\"Artist: {artist}\")\n",
    "\n"
   ]
  },
  {
   "cell_type": "code",
   "execution_count": null,
   "metadata": {},
   "outputs": [],
   "source": [
    "\n",
    "# Find artist in prompt and rename file\n",
    "DEBUG = False\n",
    "\n",
    "for filename in tqdm.tqdm(os.listdir(BASE_PATH)):\n",
    "    if not filename.endswith('.jpg'):\n",
    "        continue\n",
    "    filepath = os.path.join(BASE_PATH, filename)\n",
    "    info = raw_image_info(filepath).split('\\n')[0]\n",
    "\n",
    "    artist = artist_match_re.match(info)\n",
    "\n",
    "    if artist:\n",
    "        artist = artist.group(1).replace('\\\\', '')\n",
    "    else:\n",
    "        print(f\"COULD NOT FIND ARTIST: file={filename}\")\n",
    "        print(info)\n",
    "        continue\n",
    "\n",
    "    newname = re.sub('-score 9.*-grid', f'-grid-{artist}', filename)\n",
    "    if DEBUG:\n",
    "        print(f\"Artist: {artist}\")\n",
    "        print(newname)\n",
    "    else:\n",
    "        print(f\"Artist: {artist}\")\n",
    "        print(newname)\n",
    "        os.rename(f\"{BASE_PATH}/{filename}\", f\"{BASE_PATH}/{newname}\")"
   ]
  },
  {
   "cell_type": "code",
   "execution_count": null,
   "metadata": {},
   "outputs": [],
   "source": [
    "\n",
    "# List all artists in a selected folder\n",
    "\n",
    "SORT_PATH = r'D:\\AI\\automatic\\outputs\\grids\\rename\\JUDGMENT'\n",
    "\n",
    "artists = [path for path in os.listdir(SORT_PATH) if path.endswith('.jpg')]\n",
    "\n",
    "artists = [artist[:-4].split('-')[-1] for artist in artists]\n",
    "\n",
    "print(\"\\n\".join(artists))\n",
    "\n"
   ]
  }
 ],
 "metadata": {
  "kernelspec": {
   "display_name": "base311",
   "language": "python",
   "name": "python3"
  },
  "language_info": {
   "codemirror_mode": {
    "name": "ipython",
    "version": 3
   },
   "file_extension": ".py",
   "mimetype": "text/x-python",
   "name": "python",
   "nbconvert_exporter": "python",
   "pygments_lexer": "ipython3",
   "version": "3.11.9"
  }
 },
 "nbformat": 4,
 "nbformat_minor": 2
}
