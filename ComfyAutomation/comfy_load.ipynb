{
 "cells": [
  {
   "cell_type": "code",
   "execution_count": 1,
   "metadata": {},
   "outputs": [],
   "source": [
    "import os\n",
    "import pprint\n",
    "from modules.metadata import raw_image_info, comfy_prompt\n",
    "import json\n",
    "\n",
    "pp = pprint.PrettyPrinter()\n",
    "\n",
    "BASE_PATH = r'D:\\Sync_AI\\Training\\Mercury\\Images\\Regularization_Originals'\n",
    "\n",
    "# If you need to add to this list, find new node types here. [print(nt) for nt in comfy_unique_node_types(FILE_PATH)]\n",
    "PROMPT_NODE_TYPES = ['DPCombinatorialGenerator', 'CLIPTextEncode', 'Power Prompt (rgthree)']\n",
    "\n",
    "def scrape_node(node):\n",
    "    if 'text' in node['inputs']:\n",
    "        return node['inputs']['text']\n",
    "    elif 'prompt' in node['inputs']:\n",
    "        return node['inputs']['prompt']\n",
    "    else:\n",
    "        raise Exception('Cannot parse node: ' + str(node))\n",
    "\n",
    "\n",
    "def get_image_info(image_path):\n",
    "    # Todo: Handle Automatic111 format\n",
    "    prompt = comfy_prompt(image_path)\n",
    "    text_nodes = [value for (_, value) in prompt.items() if value['class_type'] in PROMPT_NODE_TYPES]\n",
    "    text_values = map(scrape_node, text_nodes)\n",
    "    text_values = [text for text in text_values if type(text) is str and len(text) > 1]\n",
    "    return text_values"
   ]
  },
  {
   "cell_type": "code",
   "execution_count": null,
   "metadata": {},
   "outputs": [],
   "source": [
    "\n",
    "# Single file only\n",
    "FILE_PATH = os.path.join(BASE_PATH, os.listdir(BASE_PATH)[0])\n",
    "FILE_PATH = r\"D:\\AI\\ComfyUI_Krita\\ComfyUI\\output\\ponyFaetality_v10\\FaeTalityBat_000002.png\"\n",
    "\n",
    "\"\"\"\n",
    "text_nodes = {id: value for (id, value) in prompt.items() if value['class_type'] in PROMPT_NODE_TYPES}\n",
    "print(text_nodes)\n",
    "\"\"\"\n",
    "\n",
    "get_image_info(FILE_PATH)\n",
    "# [print (f'Prompt: {prompt}') for prompt in get_image_info(FILE_PATH)]\n",
    "\n"
   ]
  },
  {
   "cell_type": "code",
   "execution_count": null,
   "metadata": {},
   "outputs": [],
   "source": [
    "filenames = [f for f in os.listdir(BASE_PATH) if f.endswith('.png')]\n",
    "\n",
    "\n",
    "\n",
    "for filepath in filenames:\n",
    "\n",
    "    try:\n",
    "        text_values = get_image_info(os.path.join(BASE_PATH, filepath))\n",
    "\n",
    "\n",
    "        ## Write entire prompt\n",
    "        # text_values = '\\n'.join(text_values)\n",
    "\n",
    "        ## SELECT MULTIPLE INDEXES FROM PROMPT\n",
    "        # text_values = '\\n'.join(map(text_values.__getitem__, [0, 6]))\n",
    "\n",
    "        ## SELECT ONE ITEM FROM PROMPT\n",
    "        text_values = text_values[3]\n",
    "\n",
    "\n",
    "        promptfile = filepath.replace('.png', '.txt')\n",
    "        with open(os.path.join(BASE_PATH, promptfile), \"w\", encoding='utf-8') as fd:\n",
    "            print(\"Writing file: \", promptfile)\n",
    "            fd.write(text_values)\n",
    "\n",
    "    except Exception as e:\n",
    "        print(f\"Could not convert file: {e}\")\n",
    "\n",
    "\n"
   ]
  },
  {
   "cell_type": "code",
   "execution_count": null,
   "metadata": {},
   "outputs": [],
   "source": [
    "\n",
    "\n",
    "\n",
    "# Testing\n",
    "basedir = r'D:\\AI\\ComfyUI_Krita\\ComfyUI\\output'\n",
    "filepath = \"Kitsune_00127_.png\""
   ]
  },
  {
   "cell_type": "code",
   "execution_count": null,
   "metadata": {},
   "outputs": [],
   "source": [
    "\n",
    "comfy_data = raw_image_info(os.path.join(BASE_PATH, filenames[3]))\n",
    "print(list(comfy_data.keys()))\n",
    "\n",
    "\n",
    "prompt = json.loads(comfy_data['prompt'])\n",
    "prompt"
   ]
  },
  {
   "cell_type": "code",
   "execution_count": null,
   "metadata": {},
   "outputs": [],
   "source": [
    "text_nodes = {id: value for (id, value) in prompt.items() if value['class_type'] in ['DPCombinatorialGenerator', 'CLIPTextEncode']}\n",
    "text_nodes"
   ]
  },
  {
   "cell_type": "code",
   "execution_count": null,
   "metadata": {},
   "outputs": [],
   "source": [
    "text_values = [node['inputs']['text'] for id, node in text_nodes.items()]\n",
    "text_values = [text for text in text_values if type(text) is str and len(text) > 1]\n",
    "text_values"
   ]
  }
 ],
 "metadata": {
  "kernelspec": {
   "display_name": "Python 3",
   "language": "python",
   "name": "python3"
  },
  "language_info": {
   "codemirror_mode": {
    "name": "ipython",
    "version": 3
   },
   "file_extension": ".py",
   "mimetype": "text/x-python",
   "name": "python",
   "nbconvert_exporter": "python",
   "pygments_lexer": "ipython3",
   "version": "3.10.11"
  }
 },
 "nbformat": 4,
 "nbformat_minor": 2
}
