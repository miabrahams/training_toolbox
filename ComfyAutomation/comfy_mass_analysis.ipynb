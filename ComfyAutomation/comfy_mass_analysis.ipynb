{
 "cells": [
  {
   "cell_type": "markdown",
   "metadata": {},
   "source": [
    "## Read image data"
   ]
  },
  {
   "cell_type": "code",
   "execution_count": null,
   "metadata": {},
   "outputs": [],
   "source": [
    "import os\n",
    "import pprint\n",
    "import json\n",
    "from typing import Any, Dict, Union\n",
    "from copy import deepcopy\n",
    "import sqlite3\n",
    "\n",
    "\n",
    "from lib.comfy_analysis import ComfyImage, fileToComfyImage, SchemaNode, Schema3, extract_positive_prompt\n",
    "# from lib.comfy_analysis import Schema2, get_parent, prompt_schedule_gen05, prompt_schedule_gen04\n",
    "\n",
    "pp = pprint.PrettyPrinter()"
   ]
  },
  {
   "cell_type": "markdown",
   "metadata": {},
   "source": [
    "# Test single image"
   ]
  },
  {
   "cell_type": "code",
   "execution_count": null,
   "metadata": {},
   "outputs": [],
   "source": [
    "\n",
    "# TODO: Use sqlite dump\n",
    "data_path = 'data/'\n",
    "\n",
    "images = [img for img in os.listdir(data_path) if img[-4:] == '.png']\n",
    "\n",
    "print(f\"Processing {len(images)} images\")\n",
    "ImageObjects = [fileToComfyImage(data_path + img) for img in images]\n"
   ]
  },
  {
   "cell_type": "code",
   "execution_count": null,
   "metadata": {},
   "outputs": [],
   "source": [
    "img = [img for img in ImageObjects if 'Dragon' in img.filename][0]\n",
    "\n",
    "# img.workflow.keys()\n",
    "# Workflow keys 'last_node_id', 'last_link_id', 'nodes', 'links', 'groups', 'config', 'extra', 'version', 'widget_idx_map', 'seed_widgets'\n",
    "\n",
    "\n",
    "# Workflow contains all nodes with ui props like color, size, position, as well as node properties.\n",
    "# 85 nodes in this thing.\n",
    "# len(img.workflow['nodes'])\n",
    "img.workflow['nodes']\n",
    "\n",
    "\n",
    "# 48 nodes in prompt. Stripped down, map from ID to a struct of values. IDs are identical.\n",
    "# Contains title in metadata '_meta': {'title': 'Negative'}},\n",
    "# 'class_type' gives type\n",
    "img.prompt"
   ]
  },
  {
   "cell_type": "markdown",
   "metadata": {},
   "source": [
    "# Run through sqlite db"
   ]
  },
  {
   "cell_type": "code",
   "execution_count": null,
   "metadata": {},
   "outputs": [],
   "source": [
    "from typing import List\n",
    "\n",
    "sqlite_db = '/home/abrahams/training_toolbox/golang/internal/testdata/prompts.sqlite'\n",
    "\n",
    "conn = sqlite3.connect(sqlite_db)\n",
    "# Iterate over prompt strings in db\n",
    "\n",
    "BadImages: List[ComfyImage] = []\n",
    "positives: List[str] = []\n",
    "\n",
    "for row in conn.execute('SELECT file_path, prompt FROM prompts'):\n",
    "    try:\n",
    "        prompt = json.loads(row[1])\n",
    "        filename = row[0]\n",
    "        img = ComfyImage(filename, prompt, {})\n",
    "        positive = extract_positive_prompt(prompt)\n",
    "        positives.append(positive)\n",
    "    except Exception:\n",
    "        BadImages.append(img)\n",
    "        pass\n",
    "\n",
    "print(f\"{len(positives)} / {len(positives)+len(BadImages)}\")\n"
   ]
  },
  {
   "cell_type": "code",
   "execution_count": null,
   "metadata": {},
   "outputs": [],
   "source": [
    "print(BadImages[0].filename)\n",
    "# print(json.dumps(BadImages[0].prompt, indent=2))\n",
    "\n",
    "# extract_positive_prompt(BadImages[0].prompt)\n"
   ]
  },
  {
   "cell_type": "code",
   "execution_count": null,
   "metadata": {},
   "outputs": [],
   "source": []
  },
  {
   "cell_type": "markdown",
   "metadata": {},
   "source": [
    "# Play with prompts"
   ]
  },
  {
   "cell_type": "code",
   "execution_count": null,
   "metadata": {},
   "outputs": [],
   "source": [
    "from collections import Counter\n",
    "import random\n",
    "\n",
    "special_tags = ['source_furry', 'score_9', 'score_8_up', 'score_7_up', 'score_6_up', 'score_5_up', 'score_4_up', 'rating_explicit', 'rating_questionable', 'rating_safe',\n",
    "               'illustration', 'digital illustration art', 'official art', 'edit',\n",
    "                'masterpiece', 'best quality', 'absurdres', 'hires', 'hi res', 'very awa', 'very aesthetic', 'newest', '()']\n",
    "def clean_prompt(prompt: str) -> str:\n",
    "    prompt = prompt.lower()\n",
    "    for tag in special_tags:\n",
    "        prompt = prompt.replace(tag + ', ', '').replace(tag, '')\n",
    "\n",
    "    prompt = prompt.strip().replace('\\n', ' ').replace('\\r', ' ')\n",
    "    return prompt\n",
    "\n",
    "prompts = Counter([clean_prompt(p) for p in positives])\n",
    "\n",
    "\n",
    "\n",
    "print(len(prompts))"
   ]
  },
  {
   "cell_type": "code",
   "execution_count": null,
   "metadata": {},
   "outputs": [],
   "source": [
    "random.choices(list(prompts), k=100)"
   ]
  },
  {
   "cell_type": "markdown",
   "metadata": {},
   "source": [
    "## Schemas\n"
   ]
  },
  {
   "cell_type": "markdown",
   "metadata": {},
   "source": [
    "# Analyze Loras"
   ]
  },
  {
   "cell_type": "code",
   "execution_count": 67,
   "metadata": {},
   "outputs": [],
   "source": [
    "# LoRA Regex, matches strings as follows\n",
    "# <lora:TeradaOchiko.safetensors:1.0>\n",
    "# <lora:Personal/Hex/HexXL_v5_FewerYellow.safetensors:0.5>\n",
    "import re\n",
    "from collections import Counter\n",
    "loraMatch = re.compile(r'<lora:(.*?):([0-9\\.]+)>')\n",
    "\n",
    "\n",
    "loraCounter = Counter()\n",
    "\n",
    "for img in ImageObjects:\n",
    "    item340 = img.prompt.get('340', None)\n",
    "    if item340 is None:\n",
    "        print(\"Unable to find node 340 in \" + img.filename)\n",
    "        continue\n",
    "    if item340['class_type'] != 'Power Prompt (rgthree)':\n",
    "        print(\"Unexpected node type: \")\n",
    "        print(img.filename)\n",
    "    pprompt = item340['inputs']['prompt']\n",
    "    # Match Loras\n",
    "    loras = loraMatch.findall(pprompt)\n",
    "    for l in loras:\n",
    "        lora_name = l[0].replace(\"\\\\\", \"/\").split('/')[-1].replace('.safetensors', '')\n",
    "        loraCounter[lora_name] += 1\n"
   ]
  },
  {
   "cell_type": "code",
   "execution_count": 70,
   "metadata": {},
   "outputs": [],
   "source": [
    "\n",
    "# Build orderedDictionary from loraCounter Counter object()\n",
    "loraCounterOut = dict(loraCounter.most_common())\n",
    "\n",
    "with open('data/loraCounter_damn.json', 'w') as f:\n",
    "    # Output json dictionary by top counts\n",
    "    json.dump(loraCounterOut, f, indent=4)"
   ]
  },
  {
   "cell_type": "code",
   "execution_count": 4,
   "metadata": {},
   "outputs": [],
   "source": [
    "\n",
    "import os\n",
    "import pprint\n",
    "pp = pprint.PrettyPrinter()\n",
    "import json\n",
    "from collections import Counter\n",
    "\n",
    "loraCounter = Counter()\n",
    "\n",
    "for path in os.listdir('data'):\n",
    "    if path[-5:] == '.json':\n",
    "        with open('data/' + path) as f:\n",
    "            data = json.load(f)\n",
    "            for lora, value in data.items():\n",
    "                loraCounter[lora] += value\n"
   ]
  },
  {
   "cell_type": "code",
   "execution_count": null,
   "metadata": {},
   "outputs": [],
   "source": [
    "loraCounter"
   ]
  },
  {
   "cell_type": "code",
   "execution_count": 12,
   "metadata": {},
   "outputs": [],
   "source": [
    "\n",
    "targets = {\n",
    "    'Sirius': [['Sirius', 'bl4ckdr4g'], {}],\n",
    "    'Bats': [['Bats', 'Aerys', 'TanBat'], {}],\n",
    "    'Hex': [['Hex'], {}],\n",
    "    'PixelSketcher': [['PixelSketcher'], {}],\n",
    "    'Valziel': [['Valziel'], {}],\n",
    "    'Zaush': [['Zaush'], {}],\n",
    "    'Tricksta': [['Tricksta'], {}],\n",
    "}\n",
    "\n",
    "\n",
    "\n",
    "for name, matchData in targets.items():\n",
    "    for loraName, count in loraCounter.items():\n",
    "        if any([loraName.find(match) > -1 for match in matchData[0]]):\n",
    "            matchData[1][loraName] = count\n",
    "    matchData[1] = dict(sorted(matchData[1].items(), key = lambda item: item[1], reverse=True))\n",
    "\n",
    "\n",
    "\n",
    "\n"
   ]
  },
  {
   "cell_type": "code",
   "execution_count": null,
   "metadata": {},
   "outputs": [],
   "source": [
    "targets"
   ]
  }
 ],
 "metadata": {
  "kernelspec": {
   "display_name": "base312",
   "language": "python",
   "name": "python3"
  },
  "language_info": {
   "codemirror_mode": {
    "name": "ipython",
    "version": 3
   },
   "file_extension": ".py",
   "mimetype": "text/x-python",
   "name": "python",
   "nbconvert_exporter": "python",
   "pygments_lexer": "ipython3",
   "version": "3.12.3"
  }
 },
 "nbformat": 4,
 "nbformat_minor": 2
}
