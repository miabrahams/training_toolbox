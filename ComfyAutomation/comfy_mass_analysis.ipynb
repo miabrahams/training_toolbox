{
 "cells": [
  {
   "cell_type": "markdown",
   "metadata": {},
   "source": [
    "## Read image data"
   ]
  },
  {
   "cell_type": "code",
   "execution_count": 28,
   "metadata": {},
   "outputs": [],
   "source": [
    "import os\n",
    "import pprint\n",
    "pp = pprint.PrettyPrinter()\n",
    "\n",
    "\n",
    "\"\"\" Move into comfy.py \"\"\"\n",
    "from PIL import Image\n",
    "import json\n",
    "\n",
    "\n",
    "def raw_image_info(filename: str) -> dict[str, str]:\n",
    "    img = Image.open(filename)\n",
    "    if filename[-4:] == \".png\":\n",
    "        info = img.load()\n",
    "        return img.info\n",
    "    # This should just return exif_data and parse elsewhere\n",
    "    elif filename[-4:] == \".jpg\":\n",
    "        exif_data = img._getexif()\n",
    "        return exif_data[37510].decode('utf-8').replace('\\x00', '').replace('UNICODE', '')\n",
    "\n",
    "def comfy_prompt(image_info):\n",
    "    return json.loads(image_info['prompt'])\n",
    "\n",
    "# If you need to add to this list, find new node types here. [print(nt) for nt in comfy_unique_node_types(FILE_PATH)]\n",
    "PROMPT_NODE_TYPES = {'DPCombinatorialGenerator': 'text', 'CLIPTextEncode': 'text', 'Power Prompt (rgthree)': 'prompt'}\n",
    "def scrape_node(node):\n",
    "    class_type = node['class_type']\n",
    "    if class_type in PROMPT_NODE_TYPES:\n",
    "        return node['inputs'][PROMPT_NODE_TYPES[class_type]]\n",
    "    else:\n",
    "        raise Exception('Cannot parse node: ' + str(node))\n",
    "\n",
    "class ComfyImage:\n",
    "    def __init__(self, filename: str, basepath = ''):\n",
    "        self.filename = filename\n",
    "        self.prompt = comfy_prompt(raw_image_info(basepath + filename))\n",
    "    def nodes(self):\n",
    "        return {id: value for (id, value) in self.prompt.items()}\n",
    "    def unique_nodes(self):\n",
    "        node_types = [value['class_type'] for (_, value) in self.prompt.items()]\n",
    "        return sorted(set(node_types))\n",
    "    def text_nodes(self):\n",
    "        return [value for (_, value) in self.prompt if value['class_type'] in PROMPT_NODE_TYPES]\n",
    "    def text_values(self):\n",
    "        return map(scrape_node, self.text_nodes())\n",
    "\n"
   ]
  },
  {
   "cell_type": "code",
   "execution_count": 66,
   "metadata": {},
   "outputs": [],
   "source": [
    "\n",
    "# TODO: Dump all info\n",
    "\n",
    "BASE_PATH = os.path.expanduser('~/ComfyUI/output/damnPonyxlRealistic_damnV20EXTREME/')\n",
    "\n",
    "images = [img for img in os.listdir(BASE_PATH) if img[-4:] == '.png']\n",
    "\n",
    "print(f\"Processing {len(images)} images\")\n",
    "ImageObjects = [ComfyImage(img, basepath=BASE_PATH) for img in images]\n",
    "# 34.6s for 1300 images\n"
   ]
  },
  {
   "cell_type": "code",
   "execution_count": 67,
   "metadata": {},
   "outputs": [],
   "source": [
    "# LoRA Regex, matches strings as follows\n",
    "# <lora:TeradaOchiko.safetensors:1.0>\n",
    "# <lora:Personal/Hex/HexXL_v5_FewerYellow.safetensors:0.5>\n",
    "import re\n",
    "from collections import Counter\n",
    "loraMatch = re.compile(r'<lora:(.*?):([0-9\\.]+)>')\n",
    "\n",
    "\n",
    "loraCounter = Counter()\n",
    "\n",
    "for img in ImageObjects:\n",
    "    item340 = img.prompt.get('340', None)\n",
    "    if item340 is None:\n",
    "        print(\"Unable to find node 340 in \" + img.filename)\n",
    "        continue\n",
    "    if item340['class_type'] != 'Power Prompt (rgthree)':\n",
    "        print(\"Unexpected node type: \")\n",
    "        print(img.filename)\n",
    "    pprompt = item340['inputs']['prompt']\n",
    "    # Match Loras\n",
    "    loras = loraMatch.findall(pprompt)\n",
    "    for l in loras:\n",
    "        lora_name = l[0].replace(\"\\\\\", \"/\").split('/')[-1].replace('.safetensors', '')\n",
    "        loraCounter[lora_name] += 1\n"
   ]
  },
  {
   "cell_type": "code",
   "execution_count": 70,
   "metadata": {},
   "outputs": [],
   "source": [
    "\n",
    "# Build orderedDictionary from loraCounter Counter object()\n",
    "loraCounterOut = dict(loraCounter.most_common())\n",
    "\n",
    "with open('data/loraCounter_damn.json', 'w') as f:\n",
    "    # Output json dictionary by top counts\n",
    "    json.dump(loraCounterOut, f, indent=4)"
   ]
  },
  {
   "cell_type": "markdown",
   "metadata": {},
   "source": [
    "## Analyze data"
   ]
  },
  {
   "cell_type": "code",
   "execution_count": 4,
   "metadata": {},
   "outputs": [],
   "source": [
    "\n",
    "import os\n",
    "import pprint\n",
    "pp = pprint.PrettyPrinter()\n",
    "import json\n",
    "from collections import Counter\n",
    "\n",
    "loraCounter = Counter()\n",
    "\n",
    "for path in os.listdir('data'):\n",
    "    if path[-5:] == '.json':\n",
    "        with open('data/' + path) as f:\n",
    "            data = json.load(f)\n",
    "            for lora, value in data.items():\n",
    "                loraCounter[lora] += value\n"
   ]
  },
  {
   "cell_type": "code",
   "execution_count": null,
   "metadata": {},
   "outputs": [],
   "source": [
    "loraCounter"
   ]
  },
  {
   "cell_type": "code",
   "execution_count": 12,
   "metadata": {},
   "outputs": [],
   "source": [
    "\n",
    "targets = {\n",
    "    'Sirius': [['Sirius', 'bl4ckdr4g'], {}],\n",
    "    'Bats': [['Bats', 'Aerys', 'TanBat'], {}],\n",
    "    'Hex': [['Hex'], {}],\n",
    "    'PixelSketcher': [['PixelSketcher'], {}],\n",
    "    'Valziel': [['Valziel'], {}],\n",
    "    'Zaush': [['Zaush'], {}],\n",
    "    'Tricksta': [['Tricksta'], {}],\n",
    "}\n",
    "\n",
    "\n",
    "\n",
    "for name, matchData in targets.items():\n",
    "    for loraName, count in loraCounter.items():\n",
    "        if any([loraName.find(match) > -1 for match in matchData[0]]):\n",
    "            matchData[1][loraName] = count\n",
    "    matchData[1] = dict(sorted(matchData[1].items(), key = lambda item: item[1], reverse=True))\n",
    "\n",
    "\n",
    "\n",
    "\n"
   ]
  },
  {
   "cell_type": "code",
   "execution_count": null,
   "metadata": {},
   "outputs": [],
   "source": [
    "targets"
   ]
  }
 ],
 "metadata": {
  "kernelspec": {
   "display_name": "base312",
   "language": "python",
   "name": "python3"
  },
  "language_info": {
   "codemirror_mode": {
    "name": "ipython",
    "version": 3
   },
   "file_extension": ".py",
   "mimetype": "text/x-python",
   "name": "python",
   "nbconvert_exporter": "python",
   "pygments_lexer": "ipython3",
   "version": "3.12.3"
  }
 },
 "nbformat": 4,
 "nbformat_minor": 2
}
