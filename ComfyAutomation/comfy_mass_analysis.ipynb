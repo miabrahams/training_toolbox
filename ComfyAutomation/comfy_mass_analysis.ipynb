{
 "cells": [
  {
   "cell_type": "markdown",
   "metadata": {},
   "source": [
    "## Read image data"
   ]
  },
  {
   "cell_type": "code",
   "execution_count": 30,
   "metadata": {},
   "outputs": [],
   "source": [
    "import os\n",
    "import pprint\n",
    "from lib.metadata import comfy_metadata\n",
    "import json\n",
    "from dataclasses import dataclass, field\n",
    "from typing import Any, Callable, Dict, List, Optional, Union\n",
    "from copy import deepcopy\n",
    "\n",
    "pp = pprint.PrettyPrinter()\n"
   ]
  },
  {
   "cell_type": "code",
   "execution_count": 2,
   "metadata": {},
   "outputs": [],
   "source": [
    "\"\"\" Move into comfy.py \"\"\"\n",
    "\n",
    "\n",
    "# If you need to add to this list, find new node types here. [print(nt) for nt in comfy_unique_node_types(FILE_PATH)]\n",
    "PROMPT_NODE_TYPES = {'DPCombinatorialGenerator': 'text', 'CLIPTextEncode': 'text', 'Power Prompt (rgthree)': 'prompt'}\n",
    "def scrape_node(node):\n",
    "    class_type = node['class_type']\n",
    "    if class_type in PROMPT_NODE_TYPES:\n",
    "        return node['inputs'][PROMPT_NODE_TYPES[class_type]]\n",
    "    else:\n",
    "        raise Exception('Cannot parse node: ' + str(node))\n",
    "\n",
    "class ComfyImage:\n",
    "    def __init__(self, filename: str):\n",
    "        self.prompt, self.workflow = comfy_metadata(filename)\n",
    "        self.filename = filename\n",
    "    def nodes(self):\n",
    "        return {id: value for (id, value) in self.prompt.items()}\n",
    "    def unique_nodes(self):\n",
    "        node_types = [value['class_type'] for (_, value) in self.prompt.items()]\n",
    "        return sorted(set(node_types))\n",
    "    def text_nodes(self):\n",
    "        return [value for (_, value) in self.prompt if value['class_type'] in PROMPT_NODE_TYPES]\n",
    "    def text_values(self):\n",
    "        return map(scrape_node, self.text_nodes())\n",
    "\n"
   ]
  },
  {
   "cell_type": "markdown",
   "metadata": {},
   "source": [
    "# Test single image"
   ]
  },
  {
   "cell_type": "code",
   "execution_count": 32,
   "metadata": {},
   "outputs": [
    {
     "name": "stdout",
     "output_type": "stream",
     "text": [
      "Processing 3 images\n"
     ]
    },
    {
     "name": "stderr",
     "output_type": "stream",
     "text": [
      "/home/abrahams/training_toolbox/ComfyAutomation/lib/metadata.py:22: SyntaxWarning: invalid escape sequence '\\.'\n",
      "  artist_filename_re = re.compile(\"^grid-[0-9]{4}-(.*)\\.png\")\n",
      "/home/abrahams/training_toolbox/ComfyAutomation/lib/metadata.py:53: SyntaxWarning: invalid escape sequence '\\S'\n",
      "  PATTERN_WITH_NEGATIVE = re.compile(\"([\\S\\s]*)\\nNegative prompt: ([\\s\\S]*)\\n(Steps: [\\s\\S]*)\")\n",
      "/home/abrahams/training_toolbox/ComfyAutomation/lib/metadata.py:54: SyntaxWarning: invalid escape sequence '\\s'\n",
      "  PATTERN_WITHOUT_NEGATIVE = re.compile(\"([\\s\\S]*)\\n(Steps: [\\s\\S]*)\")\n",
      "/home/abrahams/training_toolbox/ComfyAutomation/lib/metadata.py:144: SyntaxWarning: invalid escape sequence '\\)'\n",
      "  re.match(\".*by (.*)\\).*\", prompt).group(1)\n"
     ]
    },
    {
     "ename": "KeyError",
     "evalue": "'prompt'",
     "output_type": "error",
     "traceback": [
      "\u001b[0;31m---------------------------------------------------------------------------\u001b[0m",
      "\u001b[0;31mKeyError\u001b[0m                                  Traceback (most recent call last)",
      "Cell \u001b[0;32mIn[32], line 7\u001b[0m\n\u001b[1;32m      4\u001b[0m images \u001b[38;5;241m=\u001b[39m [img \u001b[38;5;28;01mfor\u001b[39;00m img \u001b[38;5;129;01min\u001b[39;00m os\u001b[38;5;241m.\u001b[39mlistdir(data_path) \u001b[38;5;28;01mif\u001b[39;00m img[\u001b[38;5;241m-\u001b[39m\u001b[38;5;241m4\u001b[39m:] \u001b[38;5;241m==\u001b[39m \u001b[38;5;124m'\u001b[39m\u001b[38;5;124m.png\u001b[39m\u001b[38;5;124m'\u001b[39m]\n\u001b[1;32m      6\u001b[0m \u001b[38;5;28mprint\u001b[39m(\u001b[38;5;124mf\u001b[39m\u001b[38;5;124m\"\u001b[39m\u001b[38;5;124mProcessing \u001b[39m\u001b[38;5;132;01m{\u001b[39;00m\u001b[38;5;28mlen\u001b[39m(images)\u001b[38;5;132;01m}\u001b[39;00m\u001b[38;5;124m images\u001b[39m\u001b[38;5;124m\"\u001b[39m)\n\u001b[0;32m----> 7\u001b[0m ImageObjects \u001b[38;5;241m=\u001b[39m [\u001b[43mComfyImage\u001b[49m\u001b[43m(\u001b[49m\u001b[43mdata_path\u001b[49m\u001b[43m \u001b[49m\u001b[38;5;241;43m+\u001b[39;49m\u001b[43m \u001b[49m\u001b[43mimg\u001b[49m\u001b[43m)\u001b[49m \u001b[38;5;28;01mfor\u001b[39;00m img \u001b[38;5;129;01min\u001b[39;00m images]\n\u001b[1;32m      8\u001b[0m \u001b[38;5;66;03m# 34.6s for 1300 images\u001b[39;00m\n",
      "Cell \u001b[0;32mIn[2], line 15\u001b[0m, in \u001b[0;36mComfyImage.__init__\u001b[0;34m(self, filename)\u001b[0m\n\u001b[1;32m     14\u001b[0m \u001b[38;5;28;01mdef\u001b[39;00m \u001b[38;5;21m__init__\u001b[39m(\u001b[38;5;28mself\u001b[39m, filename: \u001b[38;5;28mstr\u001b[39m):\n\u001b[0;32m---> 15\u001b[0m     \u001b[38;5;28mself\u001b[39m\u001b[38;5;241m.\u001b[39mprompt, \u001b[38;5;28mself\u001b[39m\u001b[38;5;241m.\u001b[39mworkflow \u001b[38;5;241m=\u001b[39m \u001b[43mcomfy_metadata\u001b[49m\u001b[43m(\u001b[49m\u001b[43mfilename\u001b[49m\u001b[43m)\u001b[49m\n\u001b[1;32m     16\u001b[0m     \u001b[38;5;28mself\u001b[39m\u001b[38;5;241m.\u001b[39mfilename \u001b[38;5;241m=\u001b[39m filename\n",
      "File \u001b[0;32m~/training_toolbox/ComfyAutomation/lib/metadata.py:163\u001b[0m, in \u001b[0;36mcomfy_metadata\u001b[0;34m(filename)\u001b[0m\n\u001b[1;32m    161\u001b[0m \u001b[38;5;28;01mdef\u001b[39;00m \u001b[38;5;21mcomfy_metadata\u001b[39m(filename: \u001b[38;5;28mstr\u001b[39m) \u001b[38;5;241m-\u001b[39m\u001b[38;5;241m>\u001b[39m \u001b[38;5;28mtuple\u001b[39m[\u001b[38;5;28mdict\u001b[39m[\u001b[38;5;28mstr\u001b[39m, \u001b[38;5;28mstr\u001b[39m], \u001b[38;5;28mdict\u001b[39m[\u001b[38;5;28mstr\u001b[39m, \u001b[38;5;28mstr\u001b[39m]]:\n\u001b[1;32m    162\u001b[0m     data \u001b[38;5;241m=\u001b[39m raw_image_info(filename)\n\u001b[0;32m--> 163\u001b[0m     prompt \u001b[38;5;241m=\u001b[39m json\u001b[38;5;241m.\u001b[39mloads(\u001b[43mdata\u001b[49m\u001b[43m[\u001b[49m\u001b[38;5;124;43m'\u001b[39;49m\u001b[38;5;124;43mprompt\u001b[39;49m\u001b[38;5;124;43m'\u001b[39;49m\u001b[43m]\u001b[49m)\n\u001b[1;32m    164\u001b[0m     workflow \u001b[38;5;241m=\u001b[39m json\u001b[38;5;241m.\u001b[39mloads(data[\u001b[38;5;124m'\u001b[39m\u001b[38;5;124mworkflow\u001b[39m\u001b[38;5;124m'\u001b[39m])\n\u001b[1;32m    165\u001b[0m     \u001b[38;5;28;01mreturn\u001b[39;00m prompt, workflow\n",
      "\u001b[0;31mKeyError\u001b[0m: 'prompt'"
     ]
    }
   ],
   "source": [
    "\n",
    "# TODO: Use sqlite dump\n",
    "data_path = 'data/'\n",
    "\n",
    "images = [img for img in os.listdir(data_path) if img[-4:] == '.png']\n",
    "\n",
    "print(f\"Processing {len(images)} images\")\n",
    "ImageObjects = [ComfyImage(data_path + img) for img in images]\n",
    "# 34.6s for 1300 images\n"
   ]
  },
  {
   "cell_type": "code",
   "execution_count": 31,
   "metadata": {},
   "outputs": [
    {
     "ename": "IndexError",
     "evalue": "list index out of range",
     "output_type": "error",
     "traceback": [
      "\u001b[0;31m---------------------------------------------------------------------------\u001b[0m",
      "\u001b[0;31mIndexError\u001b[0m                                Traceback (most recent call last)",
      "Cell \u001b[0;32mIn[31], line 1\u001b[0m\n\u001b[0;32m----> 1\u001b[0m img \u001b[38;5;241m=\u001b[39m \u001b[43m[\u001b[49m\u001b[43mimg\u001b[49m\u001b[43m \u001b[49m\u001b[38;5;28;43;01mfor\u001b[39;49;00m\u001b[43m \u001b[49m\u001b[43mimg\u001b[49m\u001b[43m \u001b[49m\u001b[38;5;129;43;01min\u001b[39;49;00m\u001b[43m \u001b[49m\u001b[43mImageObjects\u001b[49m\u001b[43m \u001b[49m\u001b[38;5;28;43;01mif\u001b[39;49;00m\u001b[43m \u001b[49m\u001b[38;5;124;43m'\u001b[39;49m\u001b[38;5;124;43maerys\u001b[39;49m\u001b[38;5;124;43m'\u001b[39;49m\u001b[43m \u001b[49m\u001b[38;5;129;43;01min\u001b[39;49;00m\u001b[43m \u001b[49m\u001b[43mimg\u001b[49m\u001b[38;5;241;43m.\u001b[39;49m\u001b[43mfilename\u001b[49m\u001b[43m]\u001b[49m\u001b[43m[\u001b[49m\u001b[38;5;241;43m0\u001b[39;49m\u001b[43m]\u001b[49m\n\u001b[1;32m      3\u001b[0m \u001b[38;5;66;03m# img.workflow.keys()\u001b[39;00m\n\u001b[1;32m      4\u001b[0m \u001b[38;5;66;03m# Workflow keys 'last_node_id', 'last_link_id', 'nodes', 'links', 'groups', 'config', 'extra', 'version', 'widget_idx_map', 'seed_widgets'\u001b[39;00m\n\u001b[1;32m      5\u001b[0m \n\u001b[0;32m   (...)\u001b[0m\n\u001b[1;32m      8\u001b[0m \u001b[38;5;66;03m# 85 nodes in this thing.\u001b[39;00m\n\u001b[1;32m      9\u001b[0m \u001b[38;5;66;03m# len(img.workflow['nodes'])\u001b[39;00m\n\u001b[1;32m     10\u001b[0m img\u001b[38;5;241m.\u001b[39mworkflow[\u001b[38;5;124m'\u001b[39m\u001b[38;5;124mnodes\u001b[39m\u001b[38;5;124m'\u001b[39m]\n",
      "\u001b[0;31mIndexError\u001b[0m: list index out of range"
     ]
    }
   ],
   "source": [
    "img = [img for img in ImageObjects if 'aerys' in img.filename][0]\n",
    "\n",
    "# img.workflow.keys()\n",
    "# Workflow keys 'last_node_id', 'last_link_id', 'nodes', 'links', 'groups', 'config', 'extra', 'version', 'widget_idx_map', 'seed_widgets'\n",
    "\n",
    "\n",
    "# Workflow contains all nodes with ui props like color, size, position, as well as node properties.\n",
    "# 85 nodes in this thing.\n",
    "# len(img.workflow['nodes'])\n",
    "img.workflow['nodes']\n",
    "\n",
    "\n",
    "# 48 nodes in prompt. Stripped down, map from ID to a struct of values. IDs are identical.\n",
    "# Contains title in metadata '_meta': {'title': 'Negative'}},\n",
    "# 'class_type' gives type\n",
    "img.prompt"
   ]
  },
  {
   "cell_type": "markdown",
   "metadata": {},
   "source": [
    "## Schemas\n"
   ]
  },
  {
   "cell_type": "code",
   "execution_count": null,
   "metadata": {},
   "outputs": [],
   "source": [
    "\n",
    "# Define a type for a reader function that takes a dict (the node's JSON) and returns a value.\n",
    "ReaderFunc = Callable[[Dict[str, Any]], Any]\n",
    "\n",
    "@dataclass\n",
    "class SchemaNode:\n",
    "    role: str\n",
    "    node_id: str\n",
    "    input_name: str\n",
    "    node_type: Optional[str] = None\n",
    "    reader: ReaderFunc = field(default=lambda node: node.get('inputs', {}).get('default'))\n",
    "\n",
    "    def read_value(self, node_data: Dict[str, Any]) -> Any:\n",
    "        \"\"\"\n",
    "        Applies the reader function to the given node's data.\n",
    "        If input_name is provided and no custom reader is set,\n",
    "        the default reader returns node_data[\"inputs\"][input_name].\n",
    "        \"\"\"\n",
    "        # If a custom input_name is provided and the default lambda is in use,\n",
    "        # create a default reader function on the fly.\n",
    "        if self.reader == (lambda node: node.get('inputs', {}).get('default')) and self.input_name:\n",
    "            return node_data.get('inputs', {}).get(self.input_name)\n",
    "        return self.reader(node_data)\n",
    "\n",
    "@dataclass\n",
    "class Schema:\n",
    "    version: str\n",
    "    checkpoint_node: SchemaNode\n",
    "    seed_node: SchemaNode\n",
    "    positive_node: SchemaNode\n",
    "    negative_node: SchemaNode\n",
    "    loras_node: SchemaNode\n",
    "    steps_node: SchemaNode\n",
    "    sampler_node: SchemaNode\n",
    "    scheduler_node: SchemaNode\n",
    "    aspect_ratio_node: SchemaNode\n",
    "    swap_dimensions_node: SchemaNode\n"
   ]
  },
  {
   "cell_type": "code",
   "execution_count": null,
   "metadata": {},
   "outputs": [],
   "source": [
    "\n",
    "# Schema 3 (most recent)\n",
    "Schema3 = Schema(\n",
    "    version=\"3.0\",\n",
    "    checkpoint_node=SchemaNode(\n",
    "        role=\"checkpoint\",\n",
    "        node_id=\"474\",\n",
    "        input_name=\"ckpt_name\",\n",
    "        node_type=\"Checkpoint Loader\",\n",
    "    ),\n",
    "    seed_node=SchemaNode(role=\"seed\", node_id=\"463\", input_name=\"seed\"),\n",
    "    positive_node=SchemaNode(\n",
    "        role=\"positive\",\n",
    "        node_id=\"553\",\n",
    "        input_name=\"text\",\n",
    "        node_type=\"CLIP Text Encode for Positive Prompt\",\n",
    "    ),\n",
    "    negative_node=SchemaNode(\n",
    "        role=\"negative\",\n",
    "        node_id=\"448\",\n",
    "        input_name=\"customtext\",\n",
    "        node_type=\"CR Prompt Text for Negative Prompt\",\n",
    "    ),\n",
    "    loras_node=SchemaNode(\n",
    "        role=\"loras\",\n",
    "        node_id=\"340\",\n",
    "        input_name=\"prompt\",\n",
    "        node_type=\"Power Prompt (rgthree) for Lora\",\n",
    "    ),\n",
    "    steps_node=SchemaNode(role=\"steps\", node_id=\"445\", input_name=\"steps_total\"),\n",
    "    sampler_node=SchemaNode(role=\"sampler\", node_id=\"445\", input_name=\"sampler_name\"),\n",
    "    scheduler_node=SchemaNode(role=\"scheduler\", node_id=\"445\", input_name=\"scheduler\"),\n",
    "    aspect_ratio_node=SchemaNode(\n",
    "        role=\"aspect_ratio\", node_id=\"346\", input_name=\"aspect_ratio\"\n",
    "    ),\n",
    "    swap_dimensions_node=SchemaNode(\n",
    "        role=\"swap_dimensions\", node_id=\"346\", input_name=\"swap_dimensions\"\n",
    "    ),\n",
    ")\n",
    "\n"
   ]
  },
  {
   "cell_type": "code",
   "execution_count": null,
   "metadata": {},
   "outputs": [],
   "source": [
    "# Schema 2 had loras combined into a single node.\n",
    "# We'll need to extract them somehow.\n",
    "def read_loras(node_data: Dict[str, Any]) -> Union[str, None]:\n",
    "    \"\"\"\n",
    "    Custom reader that extracts LoRA strings from the 'prompt' field.\n",
    "    For example, it could search for tokens like \"<lora:\"...\">\".\n",
    "    \"\"\"\n",
    "    prompt = node_data.get('inputs', {}).get('prompt', '')\n",
    "    # A trivial implementation: find and return the lora substring if present.\n",
    "    start = prompt.find(\"<lora:\")\n",
    "    if start == -1:\n",
    "        return None\n",
    "    end = prompt.find(\">\", start)\n",
    "    if end == -1:\n",
    "        return None\n",
    "    return prompt[start:end+1]\n",
    "\n",
    "loras_node_gen2 = SchemaNode(role=\"loras\", node_id=\"340\", input_name=\"prompt\", reader=get_loras)\n",
    "prompt_node_gen2 = SchemaNode(role=\"positive\", node_id=\"340\", input_name=\"prompt\", reader=remove_loras)\n",
    "\n",
    "\n",
    "# Create a deep copy of Schema3 and modify it for Schema2\n",
    "Schema2 = deepcopy(Schema3)\n",
    "Schema2.version = \"2.0\"\n",
    "Schema2.loras_node = loras_node_gen2\n",
    "Schema2.positive_node = prompt_node_gen2\n",
    "\n",
    "\n",
    "\n",
    "#TODO: Identify when PromptToSchedule nodes are used.\n",
    "\n",
    "prompt_schedule_gen2 = SchemaNode(role=\"prompt\", node_id=\"445\", input_name=\"text\")\n",
    "\n",
    "\n",
    "\n",
    "\n",
    "\n",
    "# Some old workflows used Combinatorial Prompts\n",
    "prompt_schedule_gen05 = SchemaNode(role=\"prompt\", node_id=\"\", input_name=\"text\", node_type=\"DPCombinatorialGenerator\")\n",
    "\n",
    "\n",
    "\n",
    "\n",
    "# Some prompts can look for Primitive -> ClipTextEncode -> KSampler\n",
    "\n"
   ]
  },
  {
   "cell_type": "code",
   "execution_count": null,
   "metadata": {},
   "outputs": [],
   "source": [
    "\n",
    "\n",
    "\n",
    "example_node_data = {\n",
    "    \"inputs\": {\n",
    "        \"text\": \"Example positive prompt\",\n",
    "        \"prompt\": \"<lora:G3NSHIN IL.safetensors:1> additional text\",\n",
    "        \"seed\": 123456789,\n",
    "        \"default\": \"Fallback value\"\n",
    "    }\n",
    "}\n",
    "\n",
    "print(\"Positive Node value:\", positive_node.read_value(example_node_data))\n",
    "print(\"LoRAs Node value:\", loras_node.read_value(example_node_data))\n",
    "print(\"Seed Node value:\", seed_node.read_value(example_node_data))"
   ]
  },
  {
   "cell_type": "code",
   "execution_count": null,
   "metadata": {},
   "outputs": [],
   "source": []
  },
  {
   "cell_type": "markdown",
   "metadata": {},
   "source": [
    "# Analyze Loras"
   ]
  },
  {
   "cell_type": "code",
   "execution_count": 67,
   "metadata": {},
   "outputs": [],
   "source": [
    "# LoRA Regex, matches strings as follows\n",
    "# <lora:TeradaOchiko.safetensors:1.0>\n",
    "# <lora:Personal/Hex/HexXL_v5_FewerYellow.safetensors:0.5>\n",
    "import re\n",
    "from collections import Counter\n",
    "loraMatch = re.compile(r'<lora:(.*?):([0-9\\.]+)>')\n",
    "\n",
    "\n",
    "loraCounter = Counter()\n",
    "\n",
    "for img in ImageObjects:\n",
    "    item340 = img.prompt.get('340', None)\n",
    "    if item340 is None:\n",
    "        print(\"Unable to find node 340 in \" + img.filename)\n",
    "        continue\n",
    "    if item340['class_type'] != 'Power Prompt (rgthree)':\n",
    "        print(\"Unexpected node type: \")\n",
    "        print(img.filename)\n",
    "    pprompt = item340['inputs']['prompt']\n",
    "    # Match Loras\n",
    "    loras = loraMatch.findall(pprompt)\n",
    "    for l in loras:\n",
    "        lora_name = l[0].replace(\"\\\\\", \"/\").split('/')[-1].replace('.safetensors', '')\n",
    "        loraCounter[lora_name] += 1\n"
   ]
  },
  {
   "cell_type": "code",
   "execution_count": 70,
   "metadata": {},
   "outputs": [],
   "source": [
    "\n",
    "# Build orderedDictionary from loraCounter Counter object()\n",
    "loraCounterOut = dict(loraCounter.most_common())\n",
    "\n",
    "with open('data/loraCounter_damn.json', 'w') as f:\n",
    "    # Output json dictionary by top counts\n",
    "    json.dump(loraCounterOut, f, indent=4)"
   ]
  },
  {
   "cell_type": "code",
   "execution_count": 4,
   "metadata": {},
   "outputs": [],
   "source": [
    "\n",
    "import os\n",
    "import pprint\n",
    "pp = pprint.PrettyPrinter()\n",
    "import json\n",
    "from collections import Counter\n",
    "\n",
    "loraCounter = Counter()\n",
    "\n",
    "for path in os.listdir('data'):\n",
    "    if path[-5:] == '.json':\n",
    "        with open('data/' + path) as f:\n",
    "            data = json.load(f)\n",
    "            for lora, value in data.items():\n",
    "                loraCounter[lora] += value\n"
   ]
  },
  {
   "cell_type": "code",
   "execution_count": null,
   "metadata": {},
   "outputs": [],
   "source": [
    "loraCounter"
   ]
  },
  {
   "cell_type": "code",
   "execution_count": 12,
   "metadata": {},
   "outputs": [],
   "source": [
    "\n",
    "targets = {\n",
    "    'Sirius': [['Sirius', 'bl4ckdr4g'], {}],\n",
    "    'Bats': [['Bats', 'Aerys', 'TanBat'], {}],\n",
    "    'Hex': [['Hex'], {}],\n",
    "    'PixelSketcher': [['PixelSketcher'], {}],\n",
    "    'Valziel': [['Valziel'], {}],\n",
    "    'Zaush': [['Zaush'], {}],\n",
    "    'Tricksta': [['Tricksta'], {}],\n",
    "}\n",
    "\n",
    "\n",
    "\n",
    "for name, matchData in targets.items():\n",
    "    for loraName, count in loraCounter.items():\n",
    "        if any([loraName.find(match) > -1 for match in matchData[0]]):\n",
    "            matchData[1][loraName] = count\n",
    "    matchData[1] = dict(sorted(matchData[1].items(), key = lambda item: item[1], reverse=True))\n",
    "\n",
    "\n",
    "\n",
    "\n"
   ]
  },
  {
   "cell_type": "code",
   "execution_count": null,
   "metadata": {},
   "outputs": [],
   "source": [
    "targets"
   ]
  }
 ],
 "metadata": {
  "kernelspec": {
   "display_name": "base312",
   "language": "python",
   "name": "python3"
  },
  "language_info": {
   "codemirror_mode": {
    "name": "ipython",
    "version": 3
   },
   "file_extension": ".py",
   "mimetype": "text/x-python",
   "name": "python",
   "nbconvert_exporter": "python",
   "pygments_lexer": "ipython3",
   "version": "3.12.3"
  }
 },
 "nbformat": 4,
 "nbformat_minor": 2
}
