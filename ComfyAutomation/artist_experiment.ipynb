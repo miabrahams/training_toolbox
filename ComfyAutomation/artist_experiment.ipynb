{
 "cells": [
  {
   "cell_type": "code",
   "execution_count": 1,
   "metadata": {},
   "outputs": [],
   "source": [
    "from tqdm import tqdm\n",
    "\n",
    "from modules.stable_diffusion_webui import xy_script_args, txt2img_base\n",
    "from modules.metadata import chunks\n",
    "from modules.sd_api import find_model\n",
    "\n",
    "\n",
    "API = 'http://127.0.0.1:7860/sdapi/v1'\n"
   ]
  },
  {
   "cell_type": "code",
   "execution_count": 3,
   "metadata": {},
   "outputs": [],
   "source": [
    "artist_file = 'E:/ai/PDArtistGrid.txt'\n",
    "AllArtists = open(artist_file, mode=\"r\", encoding='utf-8').read().split(\"\\n\")"
   ]
  },
  {
   "cell_type": "code",
   "execution_count": 4,
   "metadata": {},
   "outputs": [
    {
     "name": "stdout",
     "output_type": "stream",
     "text": [
      "SDXL\\awpmixXL_v10\n"
     ]
    }
   ],
   "source": [
    "# Change models/options\n",
    "model_name = find_model(\"awpmixXL\")\n",
    "print(model_name)\n",
    "requests.post(url=f'{API}/options', json={\"sd_model_checkpoint\": model_name})\n",
    "\n"
   ]
  },
  {
   "cell_type": "code",
   "execution_count": null,
   "metadata": {},
   "outputs": [],
   "source": [
    "\n",
    "import json\n",
    "prompt_base = json.load(open('prompt_base.json'))\n",
    "prompt = prompt_base['prompt']\n",
    "negative_prompt = prompt_base['negative_prompt']\n",
    "seed = prompt_base['seed']\n",
    "sampler = prompt_base['sampler']\n",
    "width = prompt_base['width']\n",
    "height = prompt_base['height']\n",
    "\n",
    "payload = {**txt2img_base}\n",
    "payload['negative_prompt'] = negative_prompt\n",
    "payload['seed'] = seed\n",
    "payload['save_images'] = True\n",
    "payload['send_images'] = True\n",
    "payload['steps'] = 30\n",
    "payload['sampler'] = sampler\n",
    "payload['batch_size'] = 4\n",
    "payload['width'], payload['height'] = width, height\n",
    "\n",
    "\n",
    "\n"
   ]
  },
  {
   "cell_type": "code",
   "execution_count": null,
   "metadata": {},
   "outputs": [],
   "source": [
    "######################################\n",
    "# Set up xyzplot\n",
    "######################################\n",
    "xyz_payload = {**payload}\n",
    "xyz_payload[\"script_name\"] = \"x/y/z grid\"\n",
    "xyz_payload[\"override_settings\"] = {'samples_save': False, 'n_rows': 1}\n",
    "xyz_payload['send_images'] = False  # We don't need em in Python\n",
    "\n",
    "AllTargetLists = [nfArtists]\n",
    "\n",
    "if prompt.find(ARTIST) == -1:\n",
    "    raise Exception(\"Artist not found!\")\n",
    "for TargetArtistList in AllTargetLists:\n",
    "    # Send batches\n",
    "    for batch in tqdm(list(chunks(TargetArtistList, 25))):\n",
    "        print(batch)\n",
    "        xyz_payload['prompt'] = prompt.replace(ARTIST, batch[0])\n",
    "        xyz_payload[\"script_args\"] = xy_script_args(YAxisType=\"Prompt S/R\", YAxisValues=\",\".join(batch))\n",
    "        response = requests.post(url=f'{API}/txt2img', json=xyz_payload)\n"
   ]
  }
 ],
 "metadata": {
  "kernelspec": {
   "display_name": "Python 3",
   "language": "python",
   "name": "python3"
  },
  "language_info": {
   "codemirror_mode": {
    "name": "ipython",
    "version": 3
   },
   "file_extension": ".py",
   "mimetype": "text/x-python",
   "name": "python",
   "nbconvert_exporter": "python",
   "pygments_lexer": "ipython3",
   "version": "3.10.11"
  }
 },
 "nbformat": 4,
 "nbformat_minor": 2
}
