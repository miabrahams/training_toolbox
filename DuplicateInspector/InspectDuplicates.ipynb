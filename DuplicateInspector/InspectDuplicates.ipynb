{
 "cells": [
  {
   "cell_type": "code",
   "execution_count": null,
   "metadata": {},
   "outputs": [],
   "source": [
    "import os\n",
    "from pathlib import Path\n",
    "import ipywidgets as widgets\n",
    "from ipywidgets import Layout, HBox, VBox, HTML, Image\n",
    "from IPython.display import display\n",
    "from tqdm import tqdm\n",
    "\n",
    "\n",
    "# Note: this compares FILENAME ONLY.\n"
   ]
  },
  {
   "cell_type": "code",
   "execution_count": null,
   "metadata": {},
   "outputs": [],
   "source": [
    "\n",
    "def find_image_files(folder):\n",
    "    image_extensions = ['jpg', 'jpeg', 'png']\n",
    "    return [f.name for f in Path(folder).iterdir() if f.suffix[1:].lower() in image_extensions]\n",
    "\n",
    "\n",
    "def generate_image_pairs_html(folder1, folder2, start_index, end_index):\n",
    "    image_files1 = find_image_files(folder1)\n",
    "    image_files2 = find_image_files(folder2)\n",
    "\n",
    "    common_files = set(image_files1) & set(image_files2)\n",
    "    html = ''\n",
    "\n",
    "    for file in tqdm(sorted(common_files)[start_index:end_index]):\n",
    "        image_path1 = os.path.join(folder1, file).replace('\\\\', '/')\n",
    "        image_path2 = os.path.join(folder2, file).replace('\\\\', '/')\n",
    "\n",
    "        html += f'''\n",
    "        <div style=\"display: flex; align-items: center;\">\n",
    "            <div style=\"margin-right: 10px;\">\n",
    "                <img src=\"file:///{image_path1}\" height=\"400\">\n",
    "            </div>\n",
    "            <div>\n",
    "                <img src=\"file:///{image_path2}\" height=\"400\">\n",
    "            </div>\n",
    "        </div>\n",
    "        <h3 style=\"text-align: center;\">{file}</h3>\n",
    "        <br>\n",
    "        '''\n",
    "    return html\n"
   ]
  },
  {
   "cell_type": "code",
   "execution_count": null,
   "metadata": {},
   "outputs": [],
   "source": [
    "\n",
    "folder1 = r'/mnt/d/Sync_AI/Training/SS/images/originals'\n",
    "folder2 = r'/mnt/d/Sync_AI/Training/SS/images/new'\n",
    "html_file_path = \"image_inspector.html\"\n",
    "\n",
    "image_files1 = find_image_files(folder1)\n",
    "num_files = len(image_files1)\n",
    "\n",
    "\n",
    "def save_html_to_file(html, file_path):\n",
    "    with open(file_path, 'w') as file:\n",
    "        file.write(html)\n",
    "\n",
    "start_index = widgets.IntSlider(min=0, max=num_files-1, step=1, value=0, description='Start Index:')\n",
    "end_index = widgets.IntSlider(min=1, max=num_files-1, step=1, value=num_files, description='End Index:')\n",
    "\n",
    "def on_interact(folder1, folder2, start_index, end_index):\n",
    "    html = generate_image_pairs_html(folder1, folder2, start_index, end_index)\n",
    "    save_html_to_file(html, html_file_path)\n",
    "    display(HTML(html))\n",
    "\n",
    "widgets.interact(on_interact,\n",
    "                 folder1=widgets.fixed(folder1),\n",
    "                 folder2=widgets.fixed(folder2),\n",
    "                 start_index=start_index,\n",
    "                 end_index=end_index)\n"
   ]
  }
 ],
 "metadata": {
  "kernelspec": {
   "display_name": "base312",
   "language": "python",
   "name": "python3"
  },
  "language_info": {
   "codemirror_mode": {
    "name": "ipython",
    "version": 3
   },
   "file_extension": ".py",
   "mimetype": "text/x-python",
   "name": "python",
   "nbconvert_exporter": "python",
   "pygments_lexer": "ipython3",
   "version": "3.12.3"
  }
 },
 "nbformat": 4,
 "nbformat_minor": 2
}
