{
 "cells": [
  {
   "cell_type": "code",
   "execution_count": null,
   "metadata": {},
   "outputs": [],
   "source": [
    "import numpy as np\n",
    "import matplotlib.pyplot as plt\n",
    "from mpl_toolkits.axes_grid1 import make_axes_locatable\n",
    "\n",
    "npz_path = '/mnt/d/Sync_AI/Training/*.npz'"
   ]
  },
  {
   "cell_type": "code",
   "execution_count": null,
   "metadata": {},
   "outputs": [],
   "source": [
    "\n",
    "# Load the npz file\n",
    "npz = np.load(npz_path)\n",
    "\n",
    "# Extract the latents\n",
    "latents = npz['latents']\n",
    "\n",
    "# Get information about the latents\n",
    "print(f\"Latents shape: {latents.shape}\")\n",
    "print(f\"Latents dtype: {latents.dtype}\")\n",
    "print(f\"Latents range: [{latents.min():.4f}, {latents.max():.4f}]\")\n",
    "\n",
    "# Normalize the latents for visualization\n",
    "latents_normalized = (latents - latents.min()) / (latents.max() - latents.min())\n",
    "\n",
    "# Create a figure with subplots for each channel\n",
    "fig, axes = plt.subplots(2, 2, figsize=(15, 15))\n",
    "fig.suptitle(\"Latent Representations\", fontsize=16)\n",
    "\n",
    "for i, ax in enumerate(axes.flat):\n",
    "    if i < latents.shape[0]:\n",
    "        im = ax.imshow(latents_normalized[i], cmap='viridis')\n",
    "        ax.set_title(f\"Channel {i+1}\")\n",
    "        ax.axis('off')\n",
    "\n",
    "        # Add colorbar\n",
    "        divider = make_axes_locatable(ax)\n",
    "        cax = divider.append_axes(\"right\", size=\"5%\", pad=0.05)\n",
    "        plt.colorbar(im, cax=cax)\n",
    "    else:\n",
    "        ax.axis('off')\n",
    "\n",
    "plt.tight_layout()\n",
    "plt.show()\n"
   ]
  },
  {
   "cell_type": "code",
   "execution_count": null,
   "metadata": {},
   "outputs": [],
   "source": [
    "\n",
    "# Display statistics for each channel\n",
    "for i in range(latents.shape[0]):\n",
    "    channel = latents[i]\n",
    "    print(f\"Channel {i+1} stats:\")\n",
    "    print(f\"  Min: {channel.min():.4f}\")\n",
    "    print(f\"  Max: {channel.max():.4f}\")\n",
    "    print(f\"  Mean: {channel.mean():.4f}\")\n",
    "    print(f\"  Std: {channel.std():.4f}\")\n",
    "    print()"
   ]
  }
 ],
 "metadata": {
  "kernelspec": {
   "display_name": "base311",
   "language": "python",
   "name": "python3"
  },
  "language_info": {
   "codemirror_mode": {
    "name": "ipython",
    "version": 3
   },
   "file_extension": ".py",
   "mimetype": "text/x-python",
   "name": "python",
   "nbconvert_exporter": "python",
   "pygments_lexer": "ipython3",
   "version": "3.11.9"
  }
 },
 "nbformat": 4,
 "nbformat_minor": 2
}
