{
 "cells": [
  {
   "cell_type": "code",
   "execution_count": 16,
   "metadata": {},
   "outputs": [],
   "source": [
    "import safetensors\n",
    "import matplotlib.pyplot as plt\n",
    "import numpy as np\n"
   ]
  },
  {
   "cell_type": "code",
   "execution_count": null,
   "metadata": {},
   "outputs": [],
   "source": [
    "\n",
    "# Load the LoRA .safetensors file\n",
    "lora_file = \"/mnt/e/AI/Training/LoRAs/TFArt.safetensors\"\n",
    "lora_weights = safetensors.safe_open(lora_file, \"numpy\")"
   ]
  },
  {
   "cell_type": "code",
   "execution_count": null,
   "metadata": {},
   "outputs": [],
   "source": [
    "print(len(lora_weights.keys()))\n",
    "print(\"\\n\".join(lora_weights.keys()))"
   ]
  },
  {
   "cell_type": "code",
   "execution_count": null,
   "metadata": {},
   "outputs": [],
   "source": [
    "import matplotlib.pyplot as plt\n",
    "\n",
    "# Iterate over the weight matrices\n",
    "for key in lora_weights.keys()[0:50]:\n",
    "    # Create a histogram of the weight values\n",
    "    weights = lora_weights.get_tensor(key).flatten()\n",
    "    range = np.max(weights) - np.min(weights)\n",
    "    if range < 1e-4:\n",
    "        continue\n",
    "    plt.figure()\n",
    "    plt.hist(weights, bins=50)\n",
    "    plt.title(f\"Histogram of {key}\")\n",
    "    plt.xlabel(\"Value\")\n",
    "    plt.ylabel(f\"Frequency ({len(weights)} items)\")\n",
    "    plt.show()"
   ]
  }
 ],
 "metadata": {
  "kernelspec": {
   "display_name": "base",
   "language": "python",
   "name": "python3"
  },
  "language_info": {
   "codemirror_mode": {
    "name": "ipython",
    "version": 3
   },
   "file_extension": ".py",
   "mimetype": "text/x-python",
   "name": "python",
   "nbconvert_exporter": "python",
   "pygments_lexer": "ipython3",
   "version": "3.10.12"
  }
 },
 "nbformat": 4,
 "nbformat_minor": 2
}
