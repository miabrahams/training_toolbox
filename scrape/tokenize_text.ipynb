{
 "cells": [
  {
   "cell_type": "code",
   "execution_count": 12,
   "metadata": {},
   "outputs": [],
   "source": [
    "\n",
    "from transformers import CLIPTokenizer\n",
    "\n",
    "# Load the CLIP tokenizer\n",
    "tokenizer = CLIPTokenizer.from_pretrained(\"openai/clip-vit-base-patch32\")\n"
   ]
  },
  {
   "cell_type": "code",
   "execution_count": null,
   "metadata": {},
   "outputs": [],
   "source": [
    "\n",
    "# Define the strings you want to tokenize\n",
    "strings = [\n",
    "    \"Let's see how CLIP tokenizes this text!\",\n",
    "]\n",
    "\n",
    "# Tokenize the strings\n",
    "for string in strings:\n",
    "    # Tokenize the string\n",
    "    tokens = tokenizer.tokenize(string)\n",
    "    token_ids = tokenizer.convert_tokens_to_ids(tokens)\n",
    "\n",
    "    # Print the original string\n",
    "    print(\"Original string:\", string)\n",
    "\n",
    "    # Print the tokenized string\n",
    "    print(\"Tokenized string:\", tokens)\n",
    "\n",
    "    # Print the token IDs\n",
    "    print(\"Token IDs:\", token_ids)\n",
    "\n",
    "    # Print the decoded string\n",
    "    decoded_string = tokenizer.decode(token_ids)\n",
    "    print(\"Decoded string:\", decoded_string)\n",
    "\n",
    "    print(\"---\")"
   ]
  },
  {
   "cell_type": "code",
   "execution_count": 6,
   "metadata": {},
   "outputs": [],
   "source": [
    "import json\n",
    "\n",
    "with open(\"data/vocab.json\", \"w\") as f:\n",
    "    json.dump(tokenizer.get_vocab(), f, indent=2)"
   ]
  },
  {
   "cell_type": "code",
   "execution_count": null,
   "metadata": {},
   "outputs": [],
   "source": [
    "from pathlib import Path\n",
    "import requests\n",
    "\n",
    "def backend_tokenize(string):\n",
    "    response = requests.get('http://localhost:8000/tokenize', params={'text': string})\n",
    "    return response.json()[\"length\"]\n",
    "\n",
    "def local_tokenize(string):\n",
    "    tokens = tokenizer.tokenize(string)\n",
    "    return len(tokens)\n",
    "\n",
    "\n",
    "for txtfile in Path('/mnt/d/Sync_AI/Training/Coyote').rglob('*.txt'):\n",
    "    with open(txtfile, 'r') as file:\n",
    "        string = file.read()\n",
    "        n_tokens = local_tokenize(string)\n",
    "        if n_tokens > 65:\n",
    "            print(f'(TOOLONG) {txtfile.name} contains {n_tokens} tokens')\n",
    "        else:\n",
    "            pass\n",
    "            # print(f'(OK) {txtfile.name} contains {n_tokens} tokens')"
   ]
  },
  {
   "cell_type": "code",
   "execution_count": null,
   "metadata": {},
   "outputs": [],
   "source": []
  }
 ],
 "metadata": {
  "kernelspec": {
   "display_name": "Python 3",
   "language": "python",
   "name": "python3"
  },
  "language_info": {
   "codemirror_mode": {
    "name": "ipython",
    "version": 3
   },
   "file_extension": ".py",
   "mimetype": "text/x-python",
   "name": "python",
   "nbconvert_exporter": "python",
   "pygments_lexer": "ipython3",
   "version": "3.10.14"
  }
 },
 "nbformat": 4,
 "nbformat_minor": 2
}
