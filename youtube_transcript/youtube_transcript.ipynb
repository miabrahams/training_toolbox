{
 "cells": [
  {
   "cell_type": "code",
   "execution_count": 1,
   "metadata": {},
   "outputs": [],
   "source": [
    "from youtube_transcript_api import YouTubeTranscriptApi\n",
    "import json\n",
    "\n",
    "VIDEO_ID = \"2rP4vHPbelU\"\n",
    "\n",
    "transcript = YouTubeTranscriptApi.get_transcript(\"2rP4vHPbelU\")"
   ]
  },
  {
   "cell_type": "code",
   "execution_count": 2,
   "metadata": {},
   "outputs": [],
   "source": [
    "json.dump(transcript, open(f\"../data/youtube_scrape/{VIDEO_ID}.json\", \"w\"))"
   ]
  },
  {
   "cell_type": "code",
   "execution_count": null,
   "metadata": {},
   "outputs": [],
   "source": [
    "\n",
    "from youtube_transcript_api.formatters import TextFormatter\n",
    "\n",
    "\n",
    "cleaned = TextFormatter().format_transcript(transcript)\n",
    "print(len(cleaned))\n",
    "with open(f\"../data/youtube_scrape/{VIDEO_ID}.txt\", \"w\") as f:\n",
    "    f.write(cleaned)"
   ]
  }
 ],
 "metadata": {
  "kernelspec": {
   "display_name": "base312",
   "language": "python",
   "name": "python3"
  },
  "language_info": {
   "codemirror_mode": {
    "name": "ipython",
    "version": 3
   },
   "file_extension": ".py",
   "mimetype": "text/x-python",
   "name": "python",
   "nbconvert_exporter": "python",
   "pygments_lexer": "ipython3",
   "version": "3.12.3"
  }
 },
 "nbformat": 4,
 "nbformat_minor": 2
}
